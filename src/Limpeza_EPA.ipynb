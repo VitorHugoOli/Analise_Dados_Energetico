{
 "cells": [
  {
   "cell_type": "code",
   "execution_count": 1,
   "metadata": {
    "pycharm": {
     "name": "#%%\n"
    }
   },
   "outputs": [],
   "source": [
    "import pandas as pd\n",
    "import numpy as np\n",
    "import matplotlib.pyplot as plt"
   ]
  },
  {
   "cell_type": "markdown",
   "metadata": {},
   "source": [
    "## Leitura"
   ]
  },
  {
   "cell_type": "code",
   "execution_count": 2,
   "metadata": {
    "pycharm": {
     "name": "#%%\n"
    }
   },
   "outputs": [],
   "source": [
    "xls = pd.ExcelFile('Matriz_2018.xlsx')"
   ]
  },
  {
   "cell_type": "markdown",
   "metadata": {},
   "source": [
    "## Selecionando tabela e Limpendo dados"
   ]
  },
  {
   "cell_type": "code",
   "execution_count": 6,
   "metadata": {
    "pycharm": {
     "name": "#%%\n"
    }
   },
   "outputs": [
    {
     "data": {
      "text/plain": "                             PETRÓ_ GÁS NAT. GÁS NAT..1 C.VAPOR C.VAPOR.1  \\\nFLUXO                                                                       \nNaN                             LEO    ÚMIDO       SECO    3100      3300   \nNaN                          mil m3  milh m3    milh m3   mil t     mil t   \nPRODUÇÃO                     150468  40858.1        NaN       2    1418.5   \nIMPORTAÇÃO                    10805      NaN      10596     NaN       NaN   \nVARIAÇÃO DE ESTOQUES       -172.773        0          0     NaN       NaN   \n...                             ...      ...        ...     ...       ...   \n  SETOR ELÉTRICO                NaN      NaN        NaN     NaN       NaN   \n  CARVÃO MINERAL & OUTROS       NaN      NaN        NaN     NaN       NaN   \nCONSUMO NÃO ENERGÉTICO            0        0    1577.31       0         0   \n  MATÉRIA PRIMA DA QUÍMICA      NaN      NaN    1577.31     NaN       NaN   \n  OUTROS USOS                   NaN      NaN        NaN     NaN       NaN   \n\n                           C.VAPOR.2 C.VAPOR.3 C.VAPOR.4 C.VAPOR.5 C.VAPOR.6  \\\nFLUXO                                                                          \nNaN                             3700      4200      4500      4700      5200   \nNaN                            mil t     mil t     mil t     mil t     mil t   \nPRODUÇÃO                           2   58.1149   2663.62   296.357   550.672   \nIMPORTAÇÃO                       NaN       NaN       NaN    182.31       199   \nVARIAÇÃO DE ESTOQUES             NaN       -15       NaN       NaN       NaN   \n...                              ...       ...       ...       ...       ...   \n  SETOR ELÉTRICO                 NaN       NaN       NaN       NaN       NaN   \n  CARVÃO MINERAL & OUTROS        NaN       NaN       NaN       NaN       NaN   \nCONSUMO NÃO ENERGÉTICO             0         0         0         0         0   \n  MATÉRIA PRIMA DA QUÍMICA       NaN       NaN       NaN       NaN       NaN   \n  OUTROS USOS                    NaN       NaN       NaN       NaN       NaN   \n\n                            ...   ÁLCOOL ÁLCOOL.1    GÁS DE      COQUE  \\\nFLUXO                       ...                                          \nNaN                         ...   ANIDRO  HIDRAT.  REFINARIA  PETRÓLEO   \nNaN                         ...   mil m3   mil m3     mil m3    mil m3   \nPRODUÇÃO                    ...      NaN      NaN        NaN       NaN   \nIMPORTAÇÃO                  ...  1737.17  38.1653        NaN    2781.1   \nVARIAÇÃO DE ESTOQUES        ...  390.612 -2111.38        NaN   -24.149   \n...                         ...      ...      ...        ...       ...   \n  SETOR ELÉTRICO            ...      NaN      NaN        NaN       NaN   \n  CARVÃO MINERAL & OUTROS   ...      NaN      NaN        NaN       NaN   \nCONSUMO NÃO ENERGÉTICO      ...  246.737  832.583     423.83         0   \n  MATÉRIA PRIMA DA QUÍMICA  ...       14       35     423.83       NaN   \n  OUTROS USOS               ...  232.737  797.583        NaN       NaN   \n\n                             OUT.EN.     ALCA_     ASFALTO LUBRIFI_  SOLVEN_  \\\nFLUXO                                                                          \nNaN                         PETRÓLEO      TRÃO               CANTES      TES   \nNaN                           mil m3    mil m3      mil m3   mil m3   mil m3   \nPRODUÇÃO                         NaN       NaN         NaN      NaN      NaN   \nIMPORTAÇÃO                       NaN  0.152991       1.211  787.322   676.47   \nVARIAÇÃO DE ESTOQUES             NaN       NaN      21.474  -34.046  -43.946   \n...                              ...       ...         ...      ...      ...   \n  SETOR ELÉTRICO                 NaN       NaN         NaN      NaN      NaN   \n  CARVÃO MINERAL & OUTROS        NaN       NaN         NaN      NaN      NaN   \nCONSUMO NÃO ENERGÉTICO             0   180.171     1857.73  1244.12  517.051   \n  MATÉRIA PRIMA DA QUÍMICA       NaN       NaN         NaN      NaN      NaN   \n  OUTROS USOS                    NaN   180.171     1857.73  1244.12  517.051   \n\n                            OUT.NÃO  \nFLUXO                                \nNaN                         EN.PET.  \nNaN                          mil m3  \nPRODUÇÃO                        NaN  \nIMPORTAÇÃO                   44.798  \nVARIAÇÃO DE ESTOQUES          7.903  \n...                             ...  \n  SETOR ELÉTRICO                NaN  \n  CARVÃO MINERAL & OUTROS       NaN  \nCONSUMO NÃO ENERGÉTICO      3717.18  \n  MATÉRIA PRIMA DA QUÍMICA      NaN  \n  OUTROS USOS               3717.18  \n\n[121 rows x 52 columns]",
      "text/html": "<div>\n<style scoped>\n    .dataframe tbody tr th:only-of-type {\n        vertical-align: middle;\n    }\n\n    .dataframe tbody tr th {\n        vertical-align: top;\n    }\n\n    .dataframe thead th {\n        text-align: right;\n    }\n</style>\n<table border=\"1\" class=\"dataframe\">\n  <thead>\n    <tr style=\"text-align: right;\">\n      <th></th>\n      <th>PETRÓ_</th>\n      <th>GÁS NAT.</th>\n      <th>GÁS NAT..1</th>\n      <th>C.VAPOR</th>\n      <th>C.VAPOR.1</th>\n      <th>C.VAPOR.2</th>\n      <th>C.VAPOR.3</th>\n      <th>C.VAPOR.4</th>\n      <th>C.VAPOR.5</th>\n      <th>C.VAPOR.6</th>\n      <th>...</th>\n      <th>ÁLCOOL</th>\n      <th>ÁLCOOL.1</th>\n      <th>GÁS DE</th>\n      <th>COQUE</th>\n      <th>OUT.EN.</th>\n      <th>ALCA_</th>\n      <th>ASFALTO</th>\n      <th>LUBRIFI_</th>\n      <th>SOLVEN_</th>\n      <th>OUT.NÃO</th>\n    </tr>\n    <tr>\n      <th>FLUXO</th>\n      <th></th>\n      <th></th>\n      <th></th>\n      <th></th>\n      <th></th>\n      <th></th>\n      <th></th>\n      <th></th>\n      <th></th>\n      <th></th>\n      <th></th>\n      <th></th>\n      <th></th>\n      <th></th>\n      <th></th>\n      <th></th>\n      <th></th>\n      <th></th>\n      <th></th>\n      <th></th>\n      <th></th>\n    </tr>\n  </thead>\n  <tbody>\n    <tr>\n      <th>NaN</th>\n      <td>LEO</td>\n      <td>ÚMIDO</td>\n      <td>SECO</td>\n      <td>3100</td>\n      <td>3300</td>\n      <td>3700</td>\n      <td>4200</td>\n      <td>4500</td>\n      <td>4700</td>\n      <td>5200</td>\n      <td>...</td>\n      <td>ANIDRO</td>\n      <td>HIDRAT.</td>\n      <td>REFINARIA</td>\n      <td>PETRÓLEO</td>\n      <td>PETRÓLEO</td>\n      <td>TRÃO</td>\n      <td></td>\n      <td>CANTES</td>\n      <td>TES</td>\n      <td>EN.PET.</td>\n    </tr>\n    <tr>\n      <th>NaN</th>\n      <td>mil m3</td>\n      <td>milh m3</td>\n      <td>milh m3</td>\n      <td>mil t</td>\n      <td>mil t</td>\n      <td>mil t</td>\n      <td>mil t</td>\n      <td>mil t</td>\n      <td>mil t</td>\n      <td>mil t</td>\n      <td>...</td>\n      <td>mil m3</td>\n      <td>mil m3</td>\n      <td>mil m3</td>\n      <td>mil m3</td>\n      <td>mil m3</td>\n      <td>mil m3</td>\n      <td>mil m3</td>\n      <td>mil m3</td>\n      <td>mil m3</td>\n      <td>mil m3</td>\n    </tr>\n    <tr>\n      <th>PRODUÇÃO</th>\n      <td>150468</td>\n      <td>40858.1</td>\n      <td>NaN</td>\n      <td>2</td>\n      <td>1418.5</td>\n      <td>2</td>\n      <td>58.1149</td>\n      <td>2663.62</td>\n      <td>296.357</td>\n      <td>550.672</td>\n      <td>...</td>\n      <td>NaN</td>\n      <td>NaN</td>\n      <td>NaN</td>\n      <td>NaN</td>\n      <td>NaN</td>\n      <td>NaN</td>\n      <td>NaN</td>\n      <td>NaN</td>\n      <td>NaN</td>\n      <td>NaN</td>\n    </tr>\n    <tr>\n      <th>IMPORTAÇÃO</th>\n      <td>10805</td>\n      <td>NaN</td>\n      <td>10596</td>\n      <td>NaN</td>\n      <td>NaN</td>\n      <td>NaN</td>\n      <td>NaN</td>\n      <td>NaN</td>\n      <td>182.31</td>\n      <td>199</td>\n      <td>...</td>\n      <td>1737.17</td>\n      <td>38.1653</td>\n      <td>NaN</td>\n      <td>2781.1</td>\n      <td>NaN</td>\n      <td>0.152991</td>\n      <td>1.211</td>\n      <td>787.322</td>\n      <td>676.47</td>\n      <td>44.798</td>\n    </tr>\n    <tr>\n      <th>VARIAÇÃO DE ESTOQUES</th>\n      <td>-172.773</td>\n      <td>0</td>\n      <td>0</td>\n      <td>NaN</td>\n      <td>NaN</td>\n      <td>NaN</td>\n      <td>-15</td>\n      <td>NaN</td>\n      <td>NaN</td>\n      <td>NaN</td>\n      <td>...</td>\n      <td>390.612</td>\n      <td>-2111.38</td>\n      <td>NaN</td>\n      <td>-24.149</td>\n      <td>NaN</td>\n      <td>NaN</td>\n      <td>21.474</td>\n      <td>-34.046</td>\n      <td>-43.946</td>\n      <td>7.903</td>\n    </tr>\n    <tr>\n      <th>...</th>\n      <td>...</td>\n      <td>...</td>\n      <td>...</td>\n      <td>...</td>\n      <td>...</td>\n      <td>...</td>\n      <td>...</td>\n      <td>...</td>\n      <td>...</td>\n      <td>...</td>\n      <td>...</td>\n      <td>...</td>\n      <td>...</td>\n      <td>...</td>\n      <td>...</td>\n      <td>...</td>\n      <td>...</td>\n      <td>...</td>\n      <td>...</td>\n      <td>...</td>\n      <td>...</td>\n    </tr>\n    <tr>\n      <th>SETOR ELÉTRICO</th>\n      <td>NaN</td>\n      <td>NaN</td>\n      <td>NaN</td>\n      <td>NaN</td>\n      <td>NaN</td>\n      <td>NaN</td>\n      <td>NaN</td>\n      <td>NaN</td>\n      <td>NaN</td>\n      <td>NaN</td>\n      <td>...</td>\n      <td>NaN</td>\n      <td>NaN</td>\n      <td>NaN</td>\n      <td>NaN</td>\n      <td>NaN</td>\n      <td>NaN</td>\n      <td>NaN</td>\n      <td>NaN</td>\n      <td>NaN</td>\n      <td>NaN</td>\n    </tr>\n    <tr>\n      <th>CARVÃO MINERAL &amp; OUTROS</th>\n      <td>NaN</td>\n      <td>NaN</td>\n      <td>NaN</td>\n      <td>NaN</td>\n      <td>NaN</td>\n      <td>NaN</td>\n      <td>NaN</td>\n      <td>NaN</td>\n      <td>NaN</td>\n      <td>NaN</td>\n      <td>...</td>\n      <td>NaN</td>\n      <td>NaN</td>\n      <td>NaN</td>\n      <td>NaN</td>\n      <td>NaN</td>\n      <td>NaN</td>\n      <td>NaN</td>\n      <td>NaN</td>\n      <td>NaN</td>\n      <td>NaN</td>\n    </tr>\n    <tr>\n      <th>CONSUMO NÃO ENERGÉTICO</th>\n      <td>0</td>\n      <td>0</td>\n      <td>1577.31</td>\n      <td>0</td>\n      <td>0</td>\n      <td>0</td>\n      <td>0</td>\n      <td>0</td>\n      <td>0</td>\n      <td>0</td>\n      <td>...</td>\n      <td>246.737</td>\n      <td>832.583</td>\n      <td>423.83</td>\n      <td>0</td>\n      <td>0</td>\n      <td>180.171</td>\n      <td>1857.73</td>\n      <td>1244.12</td>\n      <td>517.051</td>\n      <td>3717.18</td>\n    </tr>\n    <tr>\n      <th>MATÉRIA PRIMA DA QUÍMICA</th>\n      <td>NaN</td>\n      <td>NaN</td>\n      <td>1577.31</td>\n      <td>NaN</td>\n      <td>NaN</td>\n      <td>NaN</td>\n      <td>NaN</td>\n      <td>NaN</td>\n      <td>NaN</td>\n      <td>NaN</td>\n      <td>...</td>\n      <td>14</td>\n      <td>35</td>\n      <td>423.83</td>\n      <td>NaN</td>\n      <td>NaN</td>\n      <td>NaN</td>\n      <td>NaN</td>\n      <td>NaN</td>\n      <td>NaN</td>\n      <td>NaN</td>\n    </tr>\n    <tr>\n      <th>OUTROS USOS</th>\n      <td>NaN</td>\n      <td>NaN</td>\n      <td>NaN</td>\n      <td>NaN</td>\n      <td>NaN</td>\n      <td>NaN</td>\n      <td>NaN</td>\n      <td>NaN</td>\n      <td>NaN</td>\n      <td>NaN</td>\n      <td>...</td>\n      <td>232.737</td>\n      <td>797.583</td>\n      <td>NaN</td>\n      <td>NaN</td>\n      <td>NaN</td>\n      <td>180.171</td>\n      <td>1857.73</td>\n      <td>1244.12</td>\n      <td>517.051</td>\n      <td>3717.18</td>\n    </tr>\n  </tbody>\n</table>\n<p>121 rows × 52 columns</p>\n</div>"
     },
     "execution_count": 6,
     "metadata": {},
     "output_type": "execute_result"
    }
   ],
   "source": [
    "df = pd.read_excel(xls, 'UC',header=2,index_col=0)\n",
    "df\n"
   ]
  }
 ],
 "metadata": {
  "kernelspec": {
   "name": "pycharm-4cbcfbba",
   "language": "python",
   "display_name": "PyCharm (cddProjects)"
  },
  "language_info": {
   "codemirror_mode": {
    "name": "ipython",
    "version": 2
   },
   "file_extension": ".py",
   "mimetype": "text/x-python",
   "name": "python",
   "nbconvert_exporter": "python",
   "pygments_lexer": "ipython2",
   "version": "2.7.15"
  }
 },
 "nbformat": 4,
 "nbformat_minor": 1
}