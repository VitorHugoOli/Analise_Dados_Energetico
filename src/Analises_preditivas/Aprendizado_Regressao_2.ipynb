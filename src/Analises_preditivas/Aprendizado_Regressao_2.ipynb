{
 "cells": [
  {
   "cell_type": "code",
   "execution_count": 2,
   "metadata": {
    "pycharm": {
     "name": "#%%\n"
    }
   },
   "outputs": [],
   "source": [
    "import pandas as pd\n",
    "import numpy as np\n",
    "import seaborn as sns\n",
    "import matplotlib.pyplot as plt\n",
    "from statsmodels.tsa.stattools import adfuller\n",
    "from statsmodels.tsa.arima_model import ARIMA\n",
    "from sklearn.linear_model import LinearRegression"
   ]
  },
  {
   "cell_type": "code",
   "execution_count": 6,
   "metadata": {
    "pycharm": {
     "name": "#%%\n"
    }
   },
   "outputs": [
    {
     "ename": "TypeError",
     "evalue": "'numpy.ndarray' object is not callable",
     "output_type": "error",
     "traceback": [
      "\u001B[0;31m---------------------------------------------------------------------------\u001B[0m",
      "\u001B[0;31mTypeError\u001B[0m                                 Traceback (most recent call last)",
      "\u001B[0;32m<ipython-input-6-38b89487434d>\u001B[0m in \u001B[0;36m<module>\u001B[0;34m\u001B[0m\n\u001B[1;32m      7\u001B[0m \u001B[0mrenew_transpose\u001B[0m \u001B[0;34m=\u001B[0m \u001B[0mrenew\u001B[0m\u001B[0;34m.\u001B[0m\u001B[0mtranspose\u001B[0m\u001B[0;34m(\u001B[0m\u001B[0;34m)\u001B[0m\u001B[0;34m\u001B[0m\u001B[0;34m\u001B[0m\u001B[0m\n\u001B[1;32m      8\u001B[0m \u001B[0;34m\u001B[0m\u001B[0m\n\u001B[0;32m----> 9\u001B[0;31m \u001B[0mrenew_transpose\u001B[0m\u001B[0;34m.\u001B[0m\u001B[0mvalues\u001B[0m\u001B[0;34m(\u001B[0m\u001B[0;34m)\u001B[0m\u001B[0;34m.\u001B[0m\u001B[0mravel\u001B[0m\u001B[0;34m(\u001B[0m\u001B[0;34m)\u001B[0m\u001B[0;34m\u001B[0m\u001B[0;34m\u001B[0m\u001B[0m\n\u001B[0m",
      "\u001B[0;31mTypeError\u001B[0m: 'numpy.ndarray' object is not callable"
     ]
    }
   ],
   "source": [
    "xls = pd.ExcelFile('../data/WorldEnergyBalancesHighlights_final.xlsx')\n",
    "\n",
    "data = pd.read_excel(xls, 'TimeSeries_1971-2019',header=1,index_col=[0,1,2],usecols=\"A:C,Z:BB\",na_values=['..','c'])\n",
    "\n",
    "br = data.loc[('Brazil')]\n",
    "renew = br.loc[('Renewable sources')]\n",
    "renew_transpose = renew.transpose()\n",
    "\n",
    "renew_transpose.values().ravel()"
   ]
  },
  {
   "cell_type": "code",
   "execution_count": null,
   "metadata": {
    "pycharm": {
     "name": "#%%\n"
    }
   },
   "outputs": [],
   "source": [
    "from sklearn.linear_model import LinearRegression\n",
    "from sklearn.metrics import mean_absolute_error\n",
    "import numpy as np\n",
    "import pandas as pd\n",
    "\n",
    "\n",
    "#Define função para calcular o MAPE\n",
    "def mape(y_pred,y_true):\n",
    "\n",
    "    return np.mean(np.abs((y_true - y_pred) / y_true)) * 100\n",
    "\n",
    "\n",
    "#Carrega os dados\n",
    "\n",
    "data = pd.read_csv('prime.csv',header=0,index_col=0).sort()\n",
    "\n",
    "x_data = []\n",
    "y_data = []\n",
    "\n",
    "# Formata de maneira que cada linha da matriz X seja composta pelos 6 meses anteriores.\n",
    "for d in range(6,data.shape[0]):\n",
    "\n",
    "    x = data.iloc[d-6:d].values.ravel()\n",
    "    y = data.iloc[d].values[0]\n",
    "\n",
    "    x_data.append(x)\n",
    "    y_data.append(y)\n",
    "\n",
    "\n",
    "x_data = np.array(x_data)\n",
    "y_data = np.array(y_data)\n",
    "\n",
    "\n",
    "\n",
    "\n",
    "#Listas para armazenar as previsões de cada modelo\n",
    "y_pred = []\n",
    "y_pred_last = []\n",
    "y_pred_ma = []\n",
    "y_true = []\n",
    "\n",
    "\n",
    "\n",
    "#Itera pela série temporal treinando um novo modelo a cada mês\n",
    "end = y_data.shape[0]\n",
    "for i in range(30,end):\n",
    "\n",
    "    x_train = x_data[:i,:]\n",
    "    y_train = y_data[:i]\n",
    "\n",
    "    x_test = x_data[i,:]\n",
    "    y_test = y_data[i]\n",
    "\n",
    "\n",
    "    model = LinearRegression(normalize=True)\n",
    "    model.fit(x_train,y_train)\n",
    "\n",
    "    y_pred.append(model.predict(x_test))\n",
    "    y_pred_last.append(x_test[-1])\n",
    "    y_pred_ma.append(x_test.mean())\n",
    "    y_true.append(y_test)\n",
    "\n",
    "\n",
    "#Transforma as listas em arrays numpy para facilitar os cálculos\n",
    "y_pred = np.array(y_pred)\n",
    "y_pred_last = np.array(y_pred_last)\n",
    "y_pred_ma = np.array(y_pred_ma)\n",
    "y_true = np.array(y_true)\n",
    "\n",
    "\n",
    "#Imprime os erros na tela\n",
    "print ('\\nMean Absolute Percentage Error')\n",
    "print ('MAPE Regressão Linear', mape(y_pred,y_true))\n",
    "print ('MAPE Último Valor', mape(y_pred_last,y_true))\n",
    "print ('MAPE Média Móvel', mape(y_pred_ma,y_true))\n",
    "\n",
    "\n",
    "print ('\\nMean Absolute Error')\n",
    "print ('MAE Regressão Linear', mean_absolute_error(y_pred,y_true))\n",
    "print ('MAE Último Valor', mean_absolute_error(y_pred_last,y_true))\n",
    "print ('MAE Média Móvel', mean_absolute_error(y_pred_ma,y_true))"
   ]
  }
 ],
 "metadata": {
  "kernelspec": {
   "display_name": "Python 3",
   "language": "python",
   "name": "python3"
  },
  "language_info": {
   "codemirror_mode": {
    "name": "ipython",
    "version": 3
   },
   "file_extension": ".py",
   "mimetype": "text/x-python",
   "name": "python",
   "nbconvert_exporter": "python",
   "pygments_lexer": "ipython3",
   "version": "3.6.9"
  }
 },
 "nbformat": 4,
 "nbformat_minor": 1
}